{
  "nbformat": 4,
  "nbformat_minor": 0,
  "metadata": {
    "colab": {
      "name": "Moringa_Data_Science_Prep_W2_Independent_Project_2019_06_Bellah_Ellam_SQL_Notebook",
      "provenance": [],
      "collapsed_sections": [],
      "authorship_tag": "ABX9TyN2ULOMWrxi3OGVOR4GDCiP",
      "include_colab_link": true
    },
    "kernelspec": {
      "name": "python3",
      "display_name": "Python 3"
    },
    "language_info": {
      "name": "python"
    }
  },
  "cells": [
    {
      "cell_type": "markdown",
      "metadata": {
        "id": "view-in-github",
        "colab_type": "text"
      },
      "source": [
        "<a href=\"https://colab.research.google.com/github/therealellam/SQL/blob/main/Moringa_Data_Science_Prep_W2_Independent_Project_2019_06_Bellah_Ellam_SQL_Notebook.ipynb\" target=\"_parent\"><img src=\"https://colab.research.google.com/assets/colab-badge.svg\" alt=\"Open In Colab\"/></a>"
      ]
    },
    {
      "cell_type": "code",
      "metadata": {
        "colab": {
          "base_uri": "https://localhost:8080/",
          "height": 35
        },
        "id": "ArZUqV8t7mry",
        "outputId": "fd46f9ea-3f71-46be-e8ed-5b0ab7fa9554"
      },
      "source": [
        "#load the sql extension into our environment\n",
        "%load_ext sql\n",
        "\n",
        "#connect to the in memory sqlite database\n",
        "\n",
        "%sql sqlite://"
      ],
      "execution_count": null,
      "outputs": [
        {
          "output_type": "execute_result",
          "data": {
            "application/vnd.google.colaboratory.intrinsic+json": {
              "type": "string"
            },
            "text/plain": [
              "'Connected: @None'"
            ]
          },
          "metadata": {
            "tags": []
          },
          "execution_count": 2
        }
      ]
    },
    {
      "cell_type": "code",
      "metadata": {
        "id": "j0TUSE7FZVOJ"
      },
      "source": [
        "# Importing Pandas\n",
        "import pandas as pd"
      ],
      "execution_count": null,
      "outputs": []
    },
    {
      "cell_type": "code",
      "metadata": {
        "colab": {
          "base_uri": "https://localhost:8080/",
          "height": 230
        },
        "id": "s5bRZ4oJZZTx",
        "outputId": "5fcbcfa8-8c93-4a61-a37f-91ab87dacdbe"
      },
      "source": [
        "# Let's load our Grand electors dataset below\n",
        "# \n",
        "with open('GrandElectors_by_state.csv','r') as f:\n",
        "    GE = pd.read_csv(f, index_col=0, encoding='utf-8')\n",
        "%sql DROP TABLE if EXISTS GE;\n",
        "%sql PERSIST GE;\n",
        "%sql SELECT * FROM GE LIMIT 5;"
      ],
      "execution_count": null,
      "outputs": [
        {
          "output_type": "stream",
          "text": [
            " * sqlite://\n",
            "Done.\n",
            " * sqlite://\n",
            " * sqlite://\n",
            "Done.\n"
          ],
          "name": "stdout"
        },
        {
          "output_type": "execute_result",
          "data": {
            "text/html": [
              "<table>\n",
              "    <thead>\n",
              "        <tr>\n",
              "            <th>State</th>\n",
              "            <th>GrandElectors</th>\n",
              "        </tr>\n",
              "    </thead>\n",
              "    <tbody>\n",
              "        <tr>\n",
              "            <td>Alabama</td>\n",
              "            <td>9</td>\n",
              "        </tr>\n",
              "        <tr>\n",
              "            <td>Alaska</td>\n",
              "            <td>3</td>\n",
              "        </tr>\n",
              "        <tr>\n",
              "            <td>Arizona</td>\n",
              "            <td>11</td>\n",
              "        </tr>\n",
              "        <tr>\n",
              "            <td>Arkansas</td>\n",
              "            <td>6</td>\n",
              "        </tr>\n",
              "        <tr>\n",
              "            <td>California</td>\n",
              "            <td>55</td>\n",
              "        </tr>\n",
              "    </tbody>\n",
              "</table>"
            ],
            "text/plain": [
              "[('Alabama', 9),\n",
              " ('Alaska', 3),\n",
              " ('Arizona', 11),\n",
              " ('Arkansas', 6),\n",
              " ('California', 55)]"
            ]
          },
          "metadata": {
            "tags": []
          },
          "execution_count": 29
        }
      ]
    },
    {
      "cell_type": "code",
      "metadata": {
        "colab": {
          "base_uri": "https://localhost:8080/",
          "height": 230
        },
        "id": "nixOfuDIZdJx",
        "outputId": "c423763f-2393-4524-b07e-0671b4f3be91"
      },
      "source": [
        "# Let's load our population dataset below\n",
        "#\n",
        "with open('Population_by_state.csv','r') as f:\n",
        "    pop = pd.read_csv(f, index_col=0, encoding='utf-8')\n",
        "%sql DROP TABLE if EXISTS pop;\n",
        "%sql PERSIST pop;\n",
        "%sql SELECT * FROM pop LIMIT 5;"
      ],
      "execution_count": null,
      "outputs": [
        {
          "output_type": "stream",
          "text": [
            " * sqlite://\n",
            "Done.\n",
            " * sqlite://\n",
            " * sqlite://\n",
            "Done.\n"
          ],
          "name": "stdout"
        },
        {
          "output_type": "execute_result",
          "data": {
            "text/html": [
              "<table>\n",
              "    <thead>\n",
              "        <tr>\n",
              "            <th>State</th>\n",
              "            <th>Population</th>\n",
              "        </tr>\n",
              "    </thead>\n",
              "    <tbody>\n",
              "        <tr>\n",
              "            <td>CALIFORNIA</td>\n",
              "            <td>39144818</td>\n",
              "        </tr>\n",
              "        <tr>\n",
              "            <td>TEXAS</td>\n",
              "            <td>27469114</td>\n",
              "        </tr>\n",
              "        <tr>\n",
              "            <td>FLORIDA</td>\n",
              "            <td>20271272</td>\n",
              "        </tr>\n",
              "        <tr>\n",
              "            <td>NEW YORK</td>\n",
              "            <td>19795791</td>\n",
              "        </tr>\n",
              "        <tr>\n",
              "            <td>ILLINOIS</td>\n",
              "            <td>12859995</td>\n",
              "        </tr>\n",
              "    </tbody>\n",
              "</table>"
            ],
            "text/plain": [
              "[('CALIFORNIA', 39144818),\n",
              " ('TEXAS', 27469114),\n",
              " ('FLORIDA', 20271272),\n",
              " ('NEW YORK', 19795791),\n",
              " ('ILLINOIS', 12859995)]"
            ]
          },
          "metadata": {
            "tags": []
          },
          "execution_count": 28
        }
      ]
    },
    {
      "cell_type": "code",
      "metadata": {
        "colab": {
          "base_uri": "https://localhost:8080/"
        },
        "id": "iPHRr8ypaLjK",
        "outputId": "88549459-95ac-4173-ea4e-39fbd5516f71"
      },
      "source": [
        "#Exercise!: To join the 2 tables:\n",
        "# You notice States are not capitalized the same way in both tables (one is in uppercase letters, the other not), \n",
        "# so you will first need to convert all to uppercase, for instance.\n",
        "# Now you can join the tables on the state key.\n",
        "\n",
        "%%sql\n",
        "UPDATE GE SET State = UPPER(State)\n",
        "\n",
        "select * from GE Limit 5;"
      ],
      "execution_count": null,
      "outputs": [
        {
          "output_type": "stream",
          "text": [
            " * sqlite://\n",
            "51 rows affected.\n"
          ],
          "name": "stdout"
        },
        {
          "output_type": "execute_result",
          "data": {
            "text/plain": [
              "[]"
            ]
          },
          "metadata": {
            "tags": []
          },
          "execution_count": 30
        }
      ]
    },
    {
      "cell_type": "code",
      "metadata": {
        "colab": {
          "base_uri": "https://localhost:8080/"
        },
        "id": "EI2XDHsgeFRh",
        "outputId": "765b5651-7499-469d-f2c1-60f799ee5dfa"
      },
      "source": [
        "#We create a new table which is joined using the state key\n",
        "%%sql\n",
        "CREATE TABLE New_table AS\n",
        "SELECT GE.GrandElectors, pop.Population, pop.State \n",
        "FROM GE, pop\n",
        "WHERE pop.State= GE.State\n"
      ],
      "execution_count": null,
      "outputs": [
        {
          "output_type": "stream",
          "text": [
            " * sqlite://\n",
            "Done.\n",
            "Done.\n"
          ],
          "name": "stdout"
        },
        {
          "output_type": "execute_result",
          "data": {
            "text/plain": [
              "[]"
            ]
          },
          "metadata": {
            "tags": []
          },
          "execution_count": 32
        }
      ]
    },
    {
      "cell_type": "code",
      "metadata": {
        "colab": {
          "base_uri": "https://localhost:8080/",
          "height": 1000
        },
        "id": "b_KuoCxslfzQ",
        "outputId": "63296964-3e5f-4a7d-d3d8-7137050b7fde"
      },
      "source": [
        "#we can now view all the columns in our new table\n",
        "%%sql\n",
        "\n",
        "SELECT * FROM New_table"
      ],
      "execution_count": null,
      "outputs": [
        {
          "output_type": "stream",
          "text": [
            " * sqlite://\n",
            "Done.\n"
          ],
          "name": "stdout"
        },
        {
          "output_type": "execute_result",
          "data": {
            "text/html": [
              "<table>\n",
              "    <thead>\n",
              "        <tr>\n",
              "            <th>GrandElectors</th>\n",
              "            <th>Population</th>\n",
              "            <th>State</th>\n",
              "        </tr>\n",
              "    </thead>\n",
              "    <tbody>\n",
              "        <tr>\n",
              "            <td>9</td>\n",
              "            <td>4858979</td>\n",
              "            <td>ALABAMA</td>\n",
              "        </tr>\n",
              "        <tr>\n",
              "            <td>3</td>\n",
              "            <td>738432</td>\n",
              "            <td>ALASKA</td>\n",
              "        </tr>\n",
              "        <tr>\n",
              "            <td>11</td>\n",
              "            <td>6828065</td>\n",
              "            <td>ARIZONA</td>\n",
              "        </tr>\n",
              "        <tr>\n",
              "            <td>6</td>\n",
              "            <td>2978204</td>\n",
              "            <td>ARKANSAS</td>\n",
              "        </tr>\n",
              "        <tr>\n",
              "            <td>55</td>\n",
              "            <td>39144818</td>\n",
              "            <td>CALIFORNIA</td>\n",
              "        </tr>\n",
              "        <tr>\n",
              "            <td>9</td>\n",
              "            <td>5456574</td>\n",
              "            <td>COLORADO</td>\n",
              "        </tr>\n",
              "        <tr>\n",
              "            <td>7</td>\n",
              "            <td>3590886</td>\n",
              "            <td>CONNECTICUT</td>\n",
              "        </tr>\n",
              "        <tr>\n",
              "            <td>3</td>\n",
              "            <td>672228</td>\n",
              "            <td>DC</td>\n",
              "        </tr>\n",
              "        <tr>\n",
              "            <td>3</td>\n",
              "            <td>945934</td>\n",
              "            <td>DELAWARE</td>\n",
              "        </tr>\n",
              "        <tr>\n",
              "            <td>29</td>\n",
              "            <td>20271272</td>\n",
              "            <td>FLORIDA</td>\n",
              "        </tr>\n",
              "        <tr>\n",
              "            <td>16</td>\n",
              "            <td>10214860</td>\n",
              "            <td>GEORGIA</td>\n",
              "        </tr>\n",
              "        <tr>\n",
              "            <td>4</td>\n",
              "            <td>1431603</td>\n",
              "            <td>HAWAII</td>\n",
              "        </tr>\n",
              "        <tr>\n",
              "            <td>4</td>\n",
              "            <td>1654930</td>\n",
              "            <td>IDAHO</td>\n",
              "        </tr>\n",
              "        <tr>\n",
              "            <td>20</td>\n",
              "            <td>12859995</td>\n",
              "            <td>ILLINOIS</td>\n",
              "        </tr>\n",
              "        <tr>\n",
              "            <td>11</td>\n",
              "            <td>6619680</td>\n",
              "            <td>INDIANA</td>\n",
              "        </tr>\n",
              "        <tr>\n",
              "            <td>6</td>\n",
              "            <td>3123899</td>\n",
              "            <td>IOWA</td>\n",
              "        </tr>\n",
              "        <tr>\n",
              "            <td>6</td>\n",
              "            <td>2911641</td>\n",
              "            <td>KANSAS</td>\n",
              "        </tr>\n",
              "        <tr>\n",
              "            <td>8</td>\n",
              "            <td>4425092</td>\n",
              "            <td>KENTUCKY</td>\n",
              "        </tr>\n",
              "        <tr>\n",
              "            <td>8</td>\n",
              "            <td>4670724</td>\n",
              "            <td>LOUISIANA</td>\n",
              "        </tr>\n",
              "        <tr>\n",
              "            <td>4</td>\n",
              "            <td>1329328</td>\n",
              "            <td>MAINE</td>\n",
              "        </tr>\n",
              "        <tr>\n",
              "            <td>10</td>\n",
              "            <td>6006401</td>\n",
              "            <td>MARYLAND</td>\n",
              "        </tr>\n",
              "        <tr>\n",
              "            <td>11</td>\n",
              "            <td>6794422</td>\n",
              "            <td>MASSACHUSETTS</td>\n",
              "        </tr>\n",
              "        <tr>\n",
              "            <td>16</td>\n",
              "            <td>9922576</td>\n",
              "            <td>MICHIGAN</td>\n",
              "        </tr>\n",
              "        <tr>\n",
              "            <td>10</td>\n",
              "            <td>5489594</td>\n",
              "            <td>MINNESOTA</td>\n",
              "        </tr>\n",
              "        <tr>\n",
              "            <td>6</td>\n",
              "            <td>2992333</td>\n",
              "            <td>MISSISSIPPI</td>\n",
              "        </tr>\n",
              "        <tr>\n",
              "            <td>10</td>\n",
              "            <td>6083672</td>\n",
              "            <td>MISSOURI</td>\n",
              "        </tr>\n",
              "        <tr>\n",
              "            <td>3</td>\n",
              "            <td>1032949</td>\n",
              "            <td>MONTANA</td>\n",
              "        </tr>\n",
              "        <tr>\n",
              "            <td>5</td>\n",
              "            <td>1896190</td>\n",
              "            <td>NEBRASKA</td>\n",
              "        </tr>\n",
              "        <tr>\n",
              "            <td>6</td>\n",
              "            <td>2890845</td>\n",
              "            <td>NEVADA</td>\n",
              "        </tr>\n",
              "        <tr>\n",
              "            <td>4</td>\n",
              "            <td>1330608</td>\n",
              "            <td>NEW HAMPSHIRE</td>\n",
              "        </tr>\n",
              "        <tr>\n",
              "            <td>14</td>\n",
              "            <td>8958013</td>\n",
              "            <td>NEW JERSEY</td>\n",
              "        </tr>\n",
              "        <tr>\n",
              "            <td>5</td>\n",
              "            <td>2085109</td>\n",
              "            <td>NEW MEXICO</td>\n",
              "        </tr>\n",
              "        <tr>\n",
              "            <td>29</td>\n",
              "            <td>19795791</td>\n",
              "            <td>NEW YORK</td>\n",
              "        </tr>\n",
              "        <tr>\n",
              "            <td>15</td>\n",
              "            <td>10042802</td>\n",
              "            <td>NORTH CAROLINA</td>\n",
              "        </tr>\n",
              "        <tr>\n",
              "            <td>3</td>\n",
              "            <td>756927</td>\n",
              "            <td>NORTH DAKOTA</td>\n",
              "        </tr>\n",
              "        <tr>\n",
              "            <td>18</td>\n",
              "            <td>11613423</td>\n",
              "            <td>OHIO</td>\n",
              "        </tr>\n",
              "        <tr>\n",
              "            <td>7</td>\n",
              "            <td>3911338</td>\n",
              "            <td>OKLAHOMA</td>\n",
              "        </tr>\n",
              "        <tr>\n",
              "            <td>7</td>\n",
              "            <td>4028977</td>\n",
              "            <td>OREGON</td>\n",
              "        </tr>\n",
              "        <tr>\n",
              "            <td>20</td>\n",
              "            <td>12802503</td>\n",
              "            <td>PENNSYLVANIA</td>\n",
              "        </tr>\n",
              "        <tr>\n",
              "            <td>4</td>\n",
              "            <td>1056298</td>\n",
              "            <td>RHODE ISLAND</td>\n",
              "        </tr>\n",
              "        <tr>\n",
              "            <td>9</td>\n",
              "            <td>4896146</td>\n",
              "            <td>SOUTH CAROLINA</td>\n",
              "        </tr>\n",
              "        <tr>\n",
              "            <td>3</td>\n",
              "            <td>858469</td>\n",
              "            <td>SOUTH DAKOTA</td>\n",
              "        </tr>\n",
              "        <tr>\n",
              "            <td>11</td>\n",
              "            <td>6600299</td>\n",
              "            <td>TENNESSEE</td>\n",
              "        </tr>\n",
              "        <tr>\n",
              "            <td>38</td>\n",
              "            <td>27469114</td>\n",
              "            <td>TEXAS</td>\n",
              "        </tr>\n",
              "        <tr>\n",
              "            <td>6</td>\n",
              "            <td>2995919</td>\n",
              "            <td>UTAH</td>\n",
              "        </tr>\n",
              "        <tr>\n",
              "            <td>3</td>\n",
              "            <td>626042</td>\n",
              "            <td>VERMONT</td>\n",
              "        </tr>\n",
              "        <tr>\n",
              "            <td>13</td>\n",
              "            <td>8382993</td>\n",
              "            <td>VIRGINIA</td>\n",
              "        </tr>\n",
              "        <tr>\n",
              "            <td>12</td>\n",
              "            <td>7170351</td>\n",
              "            <td>WASHINGTON</td>\n",
              "        </tr>\n",
              "        <tr>\n",
              "            <td>5</td>\n",
              "            <td>1844128</td>\n",
              "            <td>WEST VIRGINIA</td>\n",
              "        </tr>\n",
              "        <tr>\n",
              "            <td>10</td>\n",
              "            <td>5771337</td>\n",
              "            <td>WISCONSIN</td>\n",
              "        </tr>\n",
              "        <tr>\n",
              "            <td>3</td>\n",
              "            <td>586107</td>\n",
              "            <td>WYOMING</td>\n",
              "        </tr>\n",
              "    </tbody>\n",
              "</table>"
            ],
            "text/plain": [
              "[(9, 4858979, 'ALABAMA'),\n",
              " (3, 738432, 'ALASKA'),\n",
              " (11, 6828065, 'ARIZONA'),\n",
              " (6, 2978204, 'ARKANSAS'),\n",
              " (55, 39144818, 'CALIFORNIA'),\n",
              " (9, 5456574, 'COLORADO'),\n",
              " (7, 3590886, 'CONNECTICUT'),\n",
              " (3, 672228, 'DC'),\n",
              " (3, 945934, 'DELAWARE'),\n",
              " (29, 20271272, 'FLORIDA'),\n",
              " (16, 10214860, 'GEORGIA'),\n",
              " (4, 1431603, 'HAWAII'),\n",
              " (4, 1654930, 'IDAHO'),\n",
              " (20, 12859995, 'ILLINOIS'),\n",
              " (11, 6619680, 'INDIANA'),\n",
              " (6, 3123899, 'IOWA'),\n",
              " (6, 2911641, 'KANSAS'),\n",
              " (8, 4425092, 'KENTUCKY'),\n",
              " (8, 4670724, 'LOUISIANA'),\n",
              " (4, 1329328, 'MAINE'),\n",
              " (10, 6006401, 'MARYLAND'),\n",
              " (11, 6794422, 'MASSACHUSETTS'),\n",
              " (16, 9922576, 'MICHIGAN'),\n",
              " (10, 5489594, 'MINNESOTA'),\n",
              " (6, 2992333, 'MISSISSIPPI'),\n",
              " (10, 6083672, 'MISSOURI'),\n",
              " (3, 1032949, 'MONTANA'),\n",
              " (5, 1896190, 'NEBRASKA'),\n",
              " (6, 2890845, 'NEVADA'),\n",
              " (4, 1330608, 'NEW HAMPSHIRE'),\n",
              " (14, 8958013, 'NEW JERSEY'),\n",
              " (5, 2085109, 'NEW MEXICO'),\n",
              " (29, 19795791, 'NEW YORK'),\n",
              " (15, 10042802, 'NORTH CAROLINA'),\n",
              " (3, 756927, 'NORTH DAKOTA'),\n",
              " (18, 11613423, 'OHIO'),\n",
              " (7, 3911338, 'OKLAHOMA'),\n",
              " (7, 4028977, 'OREGON'),\n",
              " (20, 12802503, 'PENNSYLVANIA'),\n",
              " (4, 1056298, 'RHODE ISLAND'),\n",
              " (9, 4896146, 'SOUTH CAROLINA'),\n",
              " (3, 858469, 'SOUTH DAKOTA'),\n",
              " (11, 6600299, 'TENNESSEE'),\n",
              " (38, 27469114, 'TEXAS'),\n",
              " (6, 2995919, 'UTAH'),\n",
              " (3, 626042, 'VERMONT'),\n",
              " (13, 8382993, 'VIRGINIA'),\n",
              " (12, 7170351, 'WASHINGTON'),\n",
              " (5, 1844128, 'WEST VIRGINIA'),\n",
              " (10, 5771337, 'WISCONSIN'),\n",
              " (3, 586107, 'WYOMING')]"
            ]
          },
          "metadata": {
            "tags": []
          },
          "execution_count": 35
        }
      ]
    },
    {
      "cell_type": "code",
      "metadata": {
        "colab": {
          "base_uri": "https://localhost:8080/"
        },
        "id": "XoyofBJhnX-X",
        "outputId": "c5d55166-fc55-421d-8e67-8314eb99cf7f"
      },
      "source": [
        "#Exercise 2: Your boss wants you to change the name of the \"District of Columbia\" \n",
        "#state to its short version \"DC\". Please do that.\n",
        "\n",
        "%%sql\n",
        "UPDATE New_table SET State = 'DC'\n",
        "WHERE State = 'DISTRICT OF COLUMBIA';"
      ],
      "execution_count": null,
      "outputs": [
        {
          "output_type": "stream",
          "text": [
            " * sqlite://\n",
            "1 rows affected.\n"
          ],
          "name": "stdout"
        },
        {
          "output_type": "execute_result",
          "data": {
            "text/plain": [
              "[]"
            ]
          },
          "metadata": {
            "tags": []
          },
          "execution_count": 34
        }
      ]
    },
    {
      "cell_type": "code",
      "metadata": {
        "id": "9MVwmveV4u8T"
      },
      "source": [
        "# %%sql\n",
        "# CREATE VIEW\n",
        "# joined\n",
        "# AS\n",
        "# SELECT replace(pop.state, district of columbia, DC) as state,population,grandelector.GE\n",
        "# FROM pop\n",
        "# INNER JOIN GE\n",
        "# ON GE.State =Pop.state"
      ],
      "execution_count": null,
      "outputs": []
    },
    {
      "cell_type": "code",
      "metadata": {
        "colab": {
          "base_uri": "https://localhost:8080/",
          "height": 179
        },
        "id": "Gqa4vuihoUbP",
        "outputId": "26436599-4525-4398-da45-be805d0b7e3b"
      },
      "source": [
        "#Exercise 3: To compute the ratio between the number of grand electors and the population. \n",
        "#Please create a new column with that ratio\n",
        "#my new column of the ratio is called My_ratio\n",
        "%%sql  \n",
        "SELECT *, CAST(\"GrandElectors\" AS FLOAT)/CAST(\"Population\" AS FLOAT) AS My_ratio FROM New_table \n",
        "LIMIT 5;"
      ],
      "execution_count": null,
      "outputs": [
        {
          "output_type": "stream",
          "text": [
            " * sqlite://\n",
            "Done.\n"
          ],
          "name": "stdout"
        },
        {
          "output_type": "execute_result",
          "data": {
            "text/html": [
              "<table>\n",
              "    <thead>\n",
              "        <tr>\n",
              "            <th>GrandElectors</th>\n",
              "            <th>Population</th>\n",
              "            <th>State</th>\n",
              "            <th>My_ratio</th>\n",
              "        </tr>\n",
              "    </thead>\n",
              "    <tbody>\n",
              "        <tr>\n",
              "            <td>9</td>\n",
              "            <td>4858979</td>\n",
              "            <td>ALABAMA</td>\n",
              "            <td>1.8522409749043987e-06</td>\n",
              "        </tr>\n",
              "        <tr>\n",
              "            <td>3</td>\n",
              "            <td>738432</td>\n",
              "            <td>ALASKA</td>\n",
              "            <td>4.0626625065002604e-06</td>\n",
              "        </tr>\n",
              "        <tr>\n",
              "            <td>11</td>\n",
              "            <td>6828065</td>\n",
              "            <td>ARIZONA</td>\n",
              "            <td>1.610998137832607e-06</td>\n",
              "        </tr>\n",
              "        <tr>\n",
              "            <td>6</td>\n",
              "            <td>2978204</td>\n",
              "            <td>ARKANSAS</td>\n",
              "            <td>2.0146370094190997e-06</td>\n",
              "        </tr>\n",
              "        <tr>\n",
              "            <td>55</td>\n",
              "            <td>39144818</td>\n",
              "            <td>CALIFORNIA</td>\n",
              "            <td>1.4050391037710278e-06</td>\n",
              "        </tr>\n",
              "    </tbody>\n",
              "</table>"
            ],
            "text/plain": [
              "[(9, 4858979, 'ALABAMA', 1.8522409749043987e-06),\n",
              " (3, 738432, 'ALASKA', 4.0626625065002604e-06),\n",
              " (11, 6828065, 'ARIZONA', 1.610998137832607e-06),\n",
              " (6, 2978204, 'ARKANSAS', 2.0146370094190997e-06),\n",
              " (55, 39144818, 'CALIFORNIA', 1.4050391037710278e-06)]"
            ]
          },
          "metadata": {
            "tags": []
          },
          "execution_count": 38
        }
      ]
    },
    {
      "cell_type": "code",
      "metadata": {
        "colab": {
          "base_uri": "https://localhost:8080/",
          "height": 179
        },
        "id": "1Ry8IQNYpvgg",
        "outputId": "f32ff3f1-470c-4ea2-ad44-d03b4628100a"
      },
      "source": [
        "#Exercise 4: To order the states by decreasing ratio of Grand Electors per capita. That will make our priority list.\n",
        "#lets create a new ratio column of grand electors per capita\n",
        "%%sql  \n",
        "SELECT *, (\"Population\")/(\"GrandElectors\") AS My_ratio2 FROM New_table \n",
        "ORDER BY My_ratio2 DESC LIMIT 5;"
      ],
      "execution_count": null,
      "outputs": [
        {
          "output_type": "stream",
          "text": [
            " * sqlite://\n",
            "Done.\n"
          ],
          "name": "stdout"
        },
        {
          "output_type": "execute_result",
          "data": {
            "text/html": [
              "<table>\n",
              "    <thead>\n",
              "        <tr>\n",
              "            <th>GrandElectors</th>\n",
              "            <th>Population</th>\n",
              "            <th>State</th>\n",
              "            <th>My_ratio2</th>\n",
              "        </tr>\n",
              "    </thead>\n",
              "    <tbody>\n",
              "        <tr>\n",
              "            <td>38</td>\n",
              "            <td>27469114</td>\n",
              "            <td>TEXAS</td>\n",
              "            <td>722871</td>\n",
              "        </tr>\n",
              "        <tr>\n",
              "            <td>55</td>\n",
              "            <td>39144818</td>\n",
              "            <td>CALIFORNIA</td>\n",
              "            <td>711723</td>\n",
              "        </tr>\n",
              "        <tr>\n",
              "            <td>29</td>\n",
              "            <td>20271272</td>\n",
              "            <td>FLORIDA</td>\n",
              "            <td>699009</td>\n",
              "        </tr>\n",
              "        <tr>\n",
              "            <td>29</td>\n",
              "            <td>19795791</td>\n",
              "            <td>NEW YORK</td>\n",
              "            <td>682613</td>\n",
              "        </tr>\n",
              "        <tr>\n",
              "            <td>15</td>\n",
              "            <td>10042802</td>\n",
              "            <td>NORTH CAROLINA</td>\n",
              "            <td>669520</td>\n",
              "        </tr>\n",
              "    </tbody>\n",
              "</table>"
            ],
            "text/plain": [
              "[(38, 27469114, 'TEXAS', 722871),\n",
              " (55, 39144818, 'CALIFORNIA', 711723),\n",
              " (29, 20271272, 'FLORIDA', 699009),\n",
              " (29, 19795791, 'NEW YORK', 682613),\n",
              " (15, 10042802, 'NORTH CAROLINA', 669520)]"
            ]
          },
          "metadata": {
            "tags": []
          },
          "execution_count": 42
        }
      ]
    },
    {
      "cell_type": "code",
      "metadata": {
        "colab": {
          "base_uri": "https://localhost:8080/",
          "height": 95
        },
        "id": "0LazS3qNrptf",
        "outputId": "edbf34cc-8c38-41c7-bfe5-36e231eb5057"
      },
      "source": [
        "#Exercise 5: To compute the running total of Grand Electors in that sorted list.\n",
        "\n",
        "%%sql\n",
        "SELECT SUM(GrandElectors) AS Total_Grand_Electors FROM New_table"
      ],
      "execution_count": null,
      "outputs": [
        {
          "output_type": "stream",
          "text": [
            " * sqlite://\n",
            "Done.\n"
          ],
          "name": "stdout"
        },
        {
          "output_type": "execute_result",
          "data": {
            "text/html": [
              "<table>\n",
              "    <thead>\n",
              "        <tr>\n",
              "            <th>Total_Grand_Electors</th>\n",
              "        </tr>\n",
              "    </thead>\n",
              "    <tbody>\n",
              "        <tr>\n",
              "            <td>538</td>\n",
              "        </tr>\n",
              "    </tbody>\n",
              "</table>"
            ],
            "text/plain": [
              "[(538,)]"
            ]
          },
          "metadata": {
            "tags": []
          },
          "execution_count": 44
        }
      ]
    },
    {
      "cell_type": "code",
      "metadata": {
        "colab": {
          "base_uri": "https://localhost:8080/",
          "height": 95
        },
        "id": "F_fqOMRUtH5p",
        "outputId": "74031b79-6f0f-4ea9-9924-e1c7c89438b1"
      },
      "source": [
        "# Exercise 6: Independently, to compute the half of the total of Grand Electors overall (in the whole country):\n",
        "# This is the threshold we need to reach for winning the presidential election.\n",
        "\n",
        "%%sql\n",
        "SELECT SUM(GrandElectors)/2 FROM New_table"
      ],
      "execution_count": null,
      "outputs": [
        {
          "output_type": "stream",
          "text": [
            " * sqlite://\n",
            "Done.\n"
          ],
          "name": "stdout"
        },
        {
          "output_type": "execute_result",
          "data": {
            "text/html": [
              "<table>\n",
              "    <thead>\n",
              "        <tr>\n",
              "            <th>SUM(GrandElectors)/2</th>\n",
              "        </tr>\n",
              "    </thead>\n",
              "    <tbody>\n",
              "        <tr>\n",
              "            <td>269</td>\n",
              "        </tr>\n",
              "    </tbody>\n",
              "</table>"
            ],
            "text/plain": [
              "[(269,)]"
            ]
          },
          "metadata": {
            "tags": []
          },
          "execution_count": 46
        }
      ]
    },
    {
      "cell_type": "code",
      "metadata": {
        "id": "Sw3AMPDC_scB"
      },
      "source": [
        "%sql select running_total.state from running_total where RunningTotal <= 269 order by "
      ],
      "execution_count": null,
      "outputs": []
    },
    {
      "cell_type": "code",
      "metadata": {
        "id": "kfs-qmK1tZJC"
      },
      "source": [
        "# To filter our sorted list of states in order to keep only the (top) ones enabling us to reach the computed threshold. \n",
        "# (the other states can be ignored). That is our target list.\n",
        "# Hint: You can do that in 2 steps:\n",
        "# Select all the states for which the running total is below or equal to the threshold.\n",
        "# Add the first state for which the running total is larger than the threshold.\n",
        "%%sql\n",
        "\n",
        "SELECT State FROM New_table\n",
        "WHERE GrandElectors<=269\n"
      ],
      "execution_count": null,
      "outputs": []
    }
  ]
}